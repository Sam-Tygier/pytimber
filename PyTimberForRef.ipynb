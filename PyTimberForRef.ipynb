{
 "cells": [
  {
   "cell_type": "code",
   "execution_count": 2,
   "metadata": {
    "collapsed": false
   },
   "outputs": [],
   "source": [
    "%matplotlib inline\n",
    "import sqlite3 as sql\n",
    "import jpype as jp\n",
    "import json\n",
    "import numpy as np\n",
    "import matplotlib.pyplot as plt\n",
    "import palettable"
   ]
  },
  {
   "cell_type": "code",
   "execution_count": 19,
   "metadata": {
    "collapsed": false
   },
   "outputs": [],
   "source": [
    "class PyTimber:\n",
    "    JAR = '/afs/cern.ch/work/c/chernals/private/accsoft-cals-extr-client-nodep.jar'\n",
    "    \n",
    "    def __init__(self, clientName='LHC_MD_ABP_ANALYSIS', appName='BEAM_PHYSICS'):\n",
    "        if jp.isJVMStarted():\n",
    "            print(\"Warning! The JVM is already running.\")\n",
    "        else:\n",
    "            jp.startJVM(jp.getDefaultJVMPath(), \"-Djava.class.path={0}\".format(PyTimber.JAR))\n",
    "\n",
    "        self._cals = jp.JPackage(\"cern\").accsoft.cals\n",
    "        self._metaDS = self._cals.extr.client.service.ServiceBuilder.getInstance(clientName, appName, self._cals.extr.domain.core.datasource.DataLocationPreferences.MDB_AND_LDB_PRO).createMetaService()\n",
    "        self._timeseriesDS = self._cals.extr.client.service.ServiceBuilder.getInstance(clientName, appName, self._cals.extr.domain.core.datasource.DataLocationPreferences.MDB_AND_LDB_PRO).createTimeseriesService()\n",
    "        \n",
    "    def getData(self, v, time1, time2):\n",
    "        results = {}\n",
    "        t1 = self._cals.extr.domain.util.TimestampFactory.parseUTCTimestamp(time1)\n",
    "        t2 = self._cals.extr.domain.util.TimestampFactory.parseUTCTimestamp(time2)\n",
    "        variables = self._metaDS.getVariablesWithNameInListofStrings(jp.java.util.Arrays.asList(v))\n",
    "        iterator = variables.iterator()\n",
    "        while iterator.hasNext():\n",
    "            v = iterator.next()\n",
    "            values = self._timeseriesDS.getDataInTimeWindow(v,t1,t2)\n",
    "            print(\"Retrieved {0} values for {1}\".format(values.size(), v.getVariableName()))\n",
    "            results[v.getVariableName()] = np.empty([values.size(), 2])\n",
    "            for i in range(0, values.size()):\n",
    "                results[v.getVariableName()][i,0] = values.getTimeSeriesData(i).getStamp().getTime()\n",
    "                results[v.getVariableName()][i,1] = values.getTimeSeriesData(i).getDoubleValue()\n",
    "        return results\n",
    "    \n",
    "    def getDataFiltered(self, v, time1, time2, cycle):\n",
    "        results = {}\n",
    "        t1 = self._cals.extr.domain.util.TimestampFactory.parseUTCTimestamp(time1)\n",
    "        t2 = self._cals.extr.domain.util.TimestampFactory.parseUTCTimestamp(time2)\n",
    "\n",
    "        fundamentals = self._metaDS.getFundamentalsInTimeWindowWithNameLikePattern(t1, t2, cycle)\n",
    "        print(fundamentals.getVariable(0).getVariableName())\n",
    "        variables = self._metaDS.getVariablesWithNameInListofStrings(jp.java.util.Arrays.asList(v))\n",
    "        iterator = variables.iterator()\n",
    "        while iterator.hasNext():\n",
    "            v = iterator.next()\n",
    "            values = self._timeseriesDS.getDataInTimeWindowFilteredByFundamentals(v,t1,t2,fundamentals)\n",
    "            datatype = values.getVariableDataType().toString()\n",
    "            print(\"Retrieved {0} values for {1}\".format(values.size(), v.getVariableName()))\n",
    "            results[v.getVariableName()] = {}\n",
    "            results[v.getVariableName()]['date'] = np.empty(values.size())\n",
    "            if datatype == 'NUMERIC':\n",
    "                results[v.getVariableName()]['value']= np.empty([values.size(), 1])\n",
    "            elif datatype == 'VECTORNUMERIC':\n",
    "                results[v.getVariableName()]['value']= [0 for x in range(values.size())]\n",
    "            elif datatype == 'MATRIXNUMERIC':\n",
    "                results[v.getVariableName()]['value']= [0 for x in range(values.size())]\n",
    "            else:\n",
    "                results[v.getVariableName()]['value']= np.empty([values.size(), 1])\n",
    "            for i in range(0, values.size()):\n",
    "                results[v.getVariableName()]['date'][i] = values.getTimeSeriesData(i).getStamp().getTime()\n",
    "                if datatype == 'VECTORNUMERIC':\n",
    "                    results[v.getVariableName()]['value'][i] = np.array(values.getTimeSeriesData(i).getDoubleValues())\n",
    "                elif datatype == 'NUMERIC':\n",
    "                    results[v.getVariableName()]['value'][i] = values.getTimeSeriesData(i).getDoubleValue()\n",
    "                elif datatype == 'FUNDAMENTAL':\n",
    "                    results[v.getVariableName()]['value'][i] = 1\n",
    "                elif datatype == 'MATRIXNUMERIC':\n",
    "                    results[v.getVariableName()]['value'][i] = np.array(values.getTimeSeriesData(i).getMatrixDoubleValues())\n",
    "                else:\n",
    "                    print('Unsupported datatype')\n",
    "                    print(datatype)\n",
    "        return results\n",
    "    \n",
    "    def getCyclePresence(self, time1, time2, cycle):\n",
    "        t1 = self._cals.extr.domain.util.TimestampFactory.parseUTCTimestamp(time1)\n",
    "        t2 = self._cals.extr.domain.util.TimestampFactory.parseUTCTimestamp(time2)\n",
    "        \n",
    "        fundamentals = self._metaDS.getFundamentalsInTimeWindowWithNameLikePattern(t1, t2, cycle)\n",
    "        \n",
    "        r = []\n",
    "        if fundamentals is not None:\n",
    "            r = fundamentals.getVariableNames().toArray()\n",
    "            print(r)\n",
    "        else:\n",
    "            print('Cycle not found.')\n",
    "        return r"
   ]
  },
  {
   "cell_type": "code",
   "execution_count": 20,
   "metadata": {
    "collapsed": false
   },
   "outputs": [
    {
     "name": "stdout",
     "output_type": "stream",
     "text": [
      "('SPS:LHC_PILOT_SLOW_FB300_FT500_Q20_2015_V1:LHCPILOT', 'SPS:LHC_INDIV_SLOW_Q20_2015_V1:LHCINDIV', 'SPS:LHC_25NS_SLOW_2INJ_Q20_2015_V1:LHC25NS')\n",
      "SPS:LHC_25NS_SLOW_2INJ_Q20_2015_V1:LHC25NS\n",
      "Retrieved 51 values for SPS:LHC_25NS_SLOW_2INJ_Q20_2015_V1:LHC25NS\n",
      "Retrieved 7 values for SPS:LHC_INDIV_SLOW_Q20_2015_V1:LHCINDIV\n",
      "Retrieved 10 values for SPS:LHC_PILOT_SLOW_FB300_FT500_Q20_2015_V1:LHCPILOT\n",
      "CPS:MTE_1600:SFTPRO2\n",
      "Retrieved 270 values for PR.DCBEFEJE_1:INTENSITY\n"
     ]
    }
   ],
   "source": [
    "date1='2015-11-04T03:00:00.000';\n",
    "date2='2015-11-04T04:00:00.000';\n",
    "lhc_cycles = t.getCyclePresence(date1, date2, 'SPS:LHC%')\n",
    "lhc_cycle_data = t.getDataFiltered(lhc_cycles, date1, date2, 'SPS:LHC%')\n",
    "cyclePS='CPS:MTE_1600:SFTPRO2'\n",
    "cycleSPS='SPS:SFT_PRO_MTE_L4830_2014_V1:SFTPRO2'\n",
    "devicesPS=['PR.DCBEFEJE_1:INTENSITY']\n",
    "dataPS = t.getDataFiltered(devicesPS, date1, date2, cyclePS)"
   ]
  },
  {
   "cell_type": "code",
   "execution_count": 7,
   "metadata": {
    "collapsed": false
   },
   "outputs": [
    {
     "name": "stdout",
     "output_type": "stream",
     "text": [
      "CPS:SFTPRO_CT_:SFTPRO1\n",
      "Retrieved 8717 values for F16.BCT.126:TOTAL_INTENSITY\n",
      "Retrieved 8717 values for F16.BCT.203:TOTAL_INTENSITY\n",
      "Retrieved 8717 values for F16.BCT.212:TOTAL_INTENSITY\n",
      "Retrieved 8717 values for F16.BCT.372:TOTAL_INTENSITY\n",
      "Retrieved 8717 values for PR.DCBEFEJE_1:INTENSITY\n",
      "SPS:SFT_PRO_L4830_2014_V1:SFTPRO1\n",
      "Retrieved 4360 values for SPS.BCTDC.31832:TOTAL_INT\n",
      "Retrieved 4360 values for TT10.BCTFI.102834:INT_INJ1\n",
      "Retrieved 4360 values for TT10.BCTFI.102834:INT_INJ2\n"
     ]
    },
    {
     "data": {
      "text/plain": [
       "0.11914693414797728"
      ]
     },
     "execution_count": 7,
     "metadata": {},
     "output_type": "execute_result"
    }
   ],
   "source": [
    "# Dataset CT\n",
    "date1='2015-09-19T00:00:00.000'\n",
    "date2='2015-09-20T00:00:00.000'\n",
    "cyclePS='CPS:SFTPRO_CT_:SFTPRO1'\n",
    "cycleSPS='SPS:SFT_PRO_L4830_2014_V1:SFTPRO1'\n",
    "devicesPS=['F16.BCT.126:TOTAL_INTENSITY', \\\n",
    "           'F16.BCT.203:TOTAL_INTENSITY', \\\n",
    "           'F16.BCT.212:TOTAL_INTENSITY', \\\n",
    "           'F16.BCT.372:TOTAL_INTENSITY', \\\n",
    "           'PR.DCBEFEJE_1:INTENSITY']\n",
    "devicesSPS=['SPS.BCTDC.31832:TOTAL_INT', \\\n",
    "            'TT10.BCTFI.102834:INT_INJ1', \\\n",
    "            'TT10.BCTFI.102834:INT_INJ2']\n",
    "dataPS = t.getDataFiltered(devicesPS, date1, date2, cyclePS)\n",
    "dataSPS = t.getDataFiltered(devicesSPS, date1, date2, cycleSPS)\n",
    "trCT = detailedTransmission(dataPS, dataSPS)\n",
    "1-np.median(trCT['total'])"
   ]
  },
  {
   "cell_type": "code",
   "execution_count": 8,
   "metadata": {
    "collapsed": false
   },
   "outputs": [
    {
     "name": "stdout",
     "output_type": "stream",
     "text": [
      "CPS:MTE_1600:SFTPRO2\n",
      "Retrieved 1618 values for F16.BCT.126:TOTAL_INTENSITY\n",
      "Retrieved 1618 values for F16.BCT.203:TOTAL_INTENSITY\n",
      "Retrieved 1618 values for F16.BCT.212:TOTAL_INTENSITY\n",
      "Retrieved 1618 values for F16.BCT.372:TOTAL_INTENSITY\n",
      "Retrieved 1618 values for PR.DCBEFEJE_1:INTENSITY\n",
      "SPS:SFT_PRO_MTE_L4830_2014_V1:SFTPRO2\n",
      "Retrieved 1000 values for SPS.BCTDC.31832:TOTAL_INT\n",
      "Retrieved 1000 values for TT10.BCTFI.102834:INT_INJ1\n",
      "Retrieved 1000 values for TT10.BCTFI.102834:INT_INJ2\n"
     ]
    },
    {
     "data": {
      "text/plain": [
       "0.12576327330524817"
      ]
     },
     "execution_count": 8,
     "metadata": {},
     "output_type": "execute_result"
    }
   ],
   "source": [
    "# Dataset MTE\n",
    "date1='2015-09-29T20:00:00.000';\n",
    "date2='2015-09-30T01:00:00.000';\n",
    "cyclePS='CPS:MTE_1600:SFTPRO2'\n",
    "cycleSPS='SPS:SFT_PRO_MTE_L4830_2014_V1:SFTPRO2'\n",
    "devicesPS=['F16.BCT.126:TOTAL_INTENSITY', \\\n",
    "           'F16.BCT.203:TOTAL_INTENSITY', \\\n",
    "           'F16.BCT.212:TOTAL_INTENSITY', \\\n",
    "           'F16.BCT.372:TOTAL_INTENSITY', \\\n",
    "           'PR.DCBEFEJE_1:INTENSITY']\n",
    "devicesSPS=['SPS.BCTDC.31832:TOTAL_INT', \\\n",
    "            'TT10.BCTFI.102834:INT_INJ1', \\\n",
    "            'TT10.BCTFI.102834:INT_INJ2']\n",
    "dataPS = t.getDataFiltered(devicesPS, date1, date2, cyclePS)\n",
    "dataSPS = t.getDataFiltered(devicesSPS, date1, date2, cycleSPS)\n",
    "trMTE = detailedTransmission(dataPS, dataSPS)\n",
    "1-np.median(trMTE['total'])\n"
   ]
  },
  {
   "cell_type": "code",
   "execution_count": 9,
   "metadata": {
    "collapsed": false
   },
   "outputs": [
    {
     "name": "stdout",
     "output_type": "stream",
     "text": [
      "CPS:MTE_1600:SFTPRO2\n",
      "Retrieved 472 values for F16.BCT.126:TOTAL_INTENSITY\n",
      "Retrieved 472 values for F16.BCT.203:TOTAL_INTENSITY\n",
      "Retrieved 472 values for F16.BCT.212:TOTAL_INTENSITY\n",
      "Retrieved 472 values for F16.BCT.372:TOTAL_INTENSITY\n",
      "Retrieved 472 values for PR.DCBEFEJE_1:INTENSITY\n",
      "SPS:SFT_PRO_MTE_L4830_2014_V1:SFTPRO2\n",
      "Retrieved 244 values for SPS.BCTDC.31832:TOTAL_INT\n",
      "Retrieved 244 values for TT10.BCTFI.102834:INT_INJ1\n",
      "Retrieved 244 values for TT10.BCTFI.102834:INT_INJ2\n"
     ]
    },
    {
     "data": {
      "text/plain": [
       "0.093813481391431308"
      ]
     },
     "execution_count": 9,
     "metadata": {},
     "output_type": "execute_result"
    }
   ],
   "source": [
    "# Dataset MTE 04/11/2015 with final PSB beam at 1600\n",
    "date1='2015-11-04T08:00:00.000';\n",
    "date2='2015-11-04T10:00:00.000';\n",
    "cyclePS='CPS:MTE_1600:SFTPRO2'\n",
    "cycleSPS='SPS:SFT_PRO_MTE_L4830_2014_V1:SFTPRO2'\n",
    "devicesPS=['F16.BCT.126:TOTAL_INTENSITY', \\\n",
    "           'F16.BCT.203:TOTAL_INTENSITY', \\\n",
    "           'F16.BCT.212:TOTAL_INTENSITY', \\\n",
    "           'F16.BCT.372:TOTAL_INTENSITY', \\\n",
    "           'PR.DCBEFEJE_1:INTENSITY']\n",
    "devicesSPS=['SPS.BCTDC.31832:TOTAL_INT', \\\n",
    "            'TT10.BCTFI.102834:INT_INJ1', \\\n",
    "            'TT10.BCTFI.102834:INT_INJ2']\n",
    "dataPS = t.getDataFiltered(devicesPS, date1, date2, cyclePS)\n",
    "dataSPS = t.getDataFiltered(devicesSPS, date1, date2, cycleSPS)\n",
    "trMTE2 = detailedTransmission(dataPS, dataSPS)\n",
    "1-np.median(trMTE2['total'])"
   ]
  },
  {
   "cell_type": "code",
   "execution_count": 10,
   "metadata": {
    "collapsed": false
   },
   "outputs": [
    {
     "name": "stdout",
     "output_type": "stream",
     "text": [
      "CPS:SFTPRO_MTE_OP:SFTPRO2\n",
      "Retrieved 200 values for F16.BCT.126:TOTAL_INTENSITY\n",
      "Retrieved 200 values for F16.BCT.203:TOTAL_INTENSITY\n",
      "Retrieved 200 values for F16.BCT.212:TOTAL_INTENSITY\n",
      "Retrieved 200 values for F16.BCT.372:TOTAL_INTENSITY\n",
      "Retrieved 200 values for PR.DCBEFEJE_1:INTENSITY\n",
      "SPS:SFT_PRO_MTE_L4830_2014_V1:SFTPRO2\n",
      "Retrieved 100 values for SPS.BCTDC.31832:TOTAL_INT\n",
      "Retrieved 100 values for TT10.BCTFI.102834:INT_INJ1\n",
      "Retrieved 100 values for TT10.BCTFI.102834:INT_INJ2\n",
      "0.123536644827\n",
      "0.0171593910214\n",
      "0.0702960919221\n",
      "0.0361374133545\n"
     ]
    }
   ],
   "source": [
    "# Dataset MTE XXX\n",
    "date1='2015-11-11T07:00:00.000';\n",
    "date2='2015-11-11T07:30:00.000';\n",
    "cyclePS='CPS:SFTPRO_MTE_OP:SFTPRO2'\n",
    "cycleSPS='SPS:SFT_PRO_MTE_L4830_2014_V1:SFTPRO2'\n",
    "devicesPS=['F16.BCT.126:TOTAL_INTENSITY', \\\n",
    "           'F16.BCT.203:TOTAL_INTENSITY', \\\n",
    "           'F16.BCT.212:TOTAL_INTENSITY', \\\n",
    "           'F16.BCT.372:TOTAL_INTENSITY', \\\n",
    "           'PR.DCBEFEJE_1:INTENSITY']\n",
    "devicesSPS=['SPS.BCTDC.31832:TOTAL_INT', \\\n",
    "            'TT10.BCTFI.102834:INT_INJ1', \\\n",
    "            'TT10.BCTFI.102834:INT_INJ2']\n",
    "dataPS = t.getDataFiltered(devicesPS, date1, date2, cyclePS)\n",
    "dataSPS = t.getDataFiltered(devicesSPS, date1, date2, cycleSPS)\n",
    "trMTE3 = detailedTransmission(dataPS, dataSPS)\n",
    "print(1-np.median(trMTE3['total']))\n",
    "print(np.median(trMTE3['tt2']))\n",
    "print(np.median(trMTE3['spsInj']))\n",
    "print(np.median(trMTE3['spsFT']))"
   ]
  },
  {
   "cell_type": "code",
   "execution_count": 28,
   "metadata": {
    "collapsed": false
   },
   "outputs": [],
   "source": [
    "def beamSynchro(ps, sps, max_offset=1000, injections=2):\n",
    "    indices = []\n",
    "    for i, x in enumerate(sps['date']):\n",
    "        tmp = [i]\n",
    "        for j, y in enumerate(ps['date']):\n",
    "            if abs(y - x) < max_offset:\n",
    "                tmp.append(j)\n",
    "        if len(tmp) == injections+1:\n",
    "            indices.append(tmp)\n",
    "    return indices"
   ]
  },
  {
   "cell_type": "code",
   "execution_count": 6,
   "metadata": {
    "collapsed": true
   },
   "outputs": [],
   "source": [
    "def detailedTransmission(dataPS, dataSPS):\n",
    "    t = {}\n",
    "    ind = beamSynchro(dataPS['PR.DCBEFEJE_1:INTENSITY'],dataSPS['SPS.BCTDC.31832:TOTAL_INT'])\n",
    "    \n",
    "    # Total\n",
    "    t['total'] = []\n",
    "    for i in ind:\n",
    "        if 1.0e-10 * dataSPS['SPS.BCTDC.31832:TOTAL_INT']['value'][i[0]][400] > 2600:\n",
    "            t['total'].append((1.0e-10 * dataSPS['SPS.BCTDC.31832:TOTAL_INT']['value'][i[0]][400])/ \\\n",
    "                     (dataPS['PR.DCBEFEJE_1:INTENSITY']['value'][i[1]][0]+ \\\n",
    "                      dataPS['PR.DCBEFEJE_1:INTENSITY']['value'][i[2]][0]))\n",
    "    t['total'] = np.array(t['total'])\n",
    "    \n",
    "    # To SPS FT\n",
    "    t['spsFT'] = []\n",
    "    for i in ind:\n",
    "        if 1.0e-10 * dataSPS['SPS.BCTDC.31832:TOTAL_INT']['value'][i[0]][400] > 2600:\n",
    "            t['spsFT'].append((1.0e-10 * dataSPS['SPS.BCTDC.31832:TOTAL_INT']['value'][i[0]][121]-1.0e-10 * dataSPS['SPS.BCTDC.31832:TOTAL_INT']['value'][i[0]][400])/ \\\n",
    "                     (dataPS['PR.DCBEFEJE_1:INTENSITY']['value'][i[1]][0]+ \\\n",
    "                      dataPS['PR.DCBEFEJE_1:INTENSITY']['value'][i[2]][0]))\n",
    "    t['spsFT'] = np.array(t['spsFT'])\n",
    "    \n",
    "    # To SPS 2nd injection\n",
    "    t['spsInj'] = []\n",
    "    for i in ind:\n",
    "        if 1.0e-10 * dataSPS['SPS.BCTDC.31832:TOTAL_INT']['value'][i[0]][121] > 2600:\n",
    "            t['spsInj'].append(((dataPS['F16.BCT.126:TOTAL_INTENSITY']['value'][i[1]][0]+ \\\n",
    "                      dataPS['F16.BCT.126:TOTAL_INTENSITY']['value'][i[2]][0])-1.0e-10 * dataSPS['SPS.BCTDC.31832:TOTAL_INT']['value'][i[0]][121])/ \\\n",
    "                     (dataPS['PR.DCBEFEJE_1:INTENSITY']['value'][i[1]][0]+ \\\n",
    "                      dataPS['PR.DCBEFEJE_1:INTENSITY']['value'][i[2]][0]))\n",
    "    t['spsInj'] = np.array(t['spsInj'])\n",
    "        \n",
    "    # To TT2\n",
    "    t['tt2'] = []\n",
    "    for i, d in enumerate(dataPS['F16.BCT.126:TOTAL_INTENSITY']['value']):\n",
    "        if d[0] > 1400:\n",
    "            norm = dataPS['PR.DCBEFEJE_1:INTENSITY']['value'][i][0]\n",
    "            t['tt2'].append(  (norm-d[0]) / norm)\n",
    "    t['tt2'] = np.array(t['tt2'])\n",
    "    \n",
    "    return t"
   ]
  },
  {
   "cell_type": "code",
   "execution_count": 24,
   "metadata": {
    "collapsed": false
   },
   "outputs": [
    {
     "data": {
      "image/png": "[encoded data removed]",
      "text/plain": [
       "<matplotlib.figure.Figure at 0x7fd0ec0a83c8>"
      ]
     },
     "metadata": {},
     "output_type": "display_data"
    }
   ],
   "source": [
    "ind = [0.2, 0.6, 1.0, 1.4]\n",
    "width = 0.2\n",
    "\n",
    "fig = plt.figure(1, figsize=(15,6), dpi=100)\n",
    "ax = fig.add_subplot(111)\n",
    "colors = palettable.colorbrewer.qualitative.Pastel1_4.mpl_colors\n",
    "colors = palettable.tableau.TableauMedium_10.mpl_colors\n",
    "\n",
    "bar1 = [100*np.median(trCT['tt2']), 100*np.median(trMTE['tt2']), 100*np.median(trMTE2['tt2']), 100*np.median(trMTE3['tt2'])]\n",
    "ax.bar(ind, bar1, width=width, color=colors[0])\n",
    "#ax.boxplot([100*(trCT['tt2']), 100*(trMTE['tt2'])], positions=[0.3, 0.7])\n",
    "\n",
    "bar2 = [100*np.median(trCT['spsInj']), 100*np.median(trMTE['spsInj']), 100*np.median(trMTE2['spsInj']), 100*np.median(trMTE3['spsInj'])]\n",
    "ax.bar(ind, bar2, bottom=bar1, width=width, color=colors[1])\n",
    "\n",
    "bar3 = [100*np.median(trCT['spsFT']), 100*np.median(trMTE['spsFT']), 100*np.median(trMTE2['spsFT']), 100*np.median(trMTE3['spsFT'])]\n",
    "ax.bar(ind, bar3, bottom=[sum(x) for x in zip(bar1, bar2)], color=colors[2], width=width)\n",
    "\n",
    "bp1 = ax.boxplot([100*(1-trCT['total']), 100*(1-trMTE['total']), 100*(1-trMTE2['total']), 100*(1-trMTE3['total'])], positions=[0.3, 0.7, 1.1, 1.5], patch_artist=True, widths=0.1, showfliers=False)\n",
    "stlBoxPlot(bp1, colors[3])\n",
    "\n",
    "ax.grid(True)\n",
    "ax.tick_params(axis='both', which='major', labelsize=22)\n",
    "ax.set_xlabel('', fontsize=22)\n",
    "ax.set_ylabel('Losses [%]', fontsize=22)\n",
    "ax.set_xticklabels(['CT', 'MTE', 'MTE'])\n",
    "ax.set_xlim([0, 1.7])\n",
    "ax.set_ylim([0, 20])\n",
    "ax.text(0.22, 1.0, '{:.1f}%'.format(100*np.median(trCT['tt2'])), fontsize=15, fontweight=\"bold\", color=[1,1,1])\n",
    "ax.text(0.62, 1.0, '{:.1f}%'.format(100*np.median(trMTE['tt2'])), fontsize=15, fontweight=\"bold\", color=[1,1,1])\n",
    "ax.text(1.02, 1.0, '{:.1f}%'.format(100*np.median(trMTE2['tt2'])), fontsize=15, fontweight=\"bold\", color=[1,1,1])\n",
    "\n",
    "ax.text(0.22, 7.0, '{:.1f}%'.format(100*np.median(trCT['spsInj'])), fontsize=15, fontweight=\"bold\", color=[1,1,1])\n",
    "ax.text(0.62, 5.0, '{:.1f}%'.format(100*np.median(trMTE['spsInj'])), fontsize=15, fontweight=\"bold\", color=[1,1,1])\n",
    "ax.text(1.02, 5.0, '{:.1f}%'.format(100*np.median(trMTE2['spsInj'])), fontsize=15, fontweight=\"bold\", color=[1,1,1])\n",
    "\n",
    "ax.text(0.22, 10.5, '{:.1f}%'.format(100*np.median(trCT['spsFT'])), fontsize=15, fontweight=\"bold\", color=[1,1,1])\n",
    "ax.text(0.62, 10.5, '{:.1f}%'.format(100*np.median(trMTE['spsFT'])), fontsize=15, fontweight=\"bold\", color=[1,1,1])\n",
    "ax.text(1.02, 7.5, '{:.1f}%'.format(100*np.median(trMTE2['spsFT'])), fontsize=15, fontweight=\"bold\", color=[1,1,1])\n",
    "\n",
    "ax.text(0.22, 16.5, '{:.1f}%'.format(100-100*np.median(trCT['total'])), fontsize=15, color='k')\n",
    "ax.text(0.62, 16.5, '{:.1f}%'.format(100-100*np.median(trMTE['total'])), fontsize=15, color='k')\n",
    "ax.text(1.02, 16.5, '{:.1f}%'.format(100-100*np.median(trMTE2['total'])), fontsize=15, color='k')\n",
    "\n",
    "ax.text(0.05, 2.0, 'PS Extraction', fontsize=15, color=colors[0], fontweight='bold')\n",
    "ax.text(0.05, 6.0, 'TT2 - TT10', fontsize=15, color=colors[1], fontweight='bold')\n",
    "ax.text(0.05, 10.1, 'SPS', fontsize=15, color=colors[2], fontweight='bold')\n",
    "ax.text(0.05, 14.0, 'Total', fontsize=15, color=colors[3], fontweight='bold')\n",
    "\n",
    "fig.savefig('plot.pdf')"
   ]
  },
  {
   "cell_type": "code",
   "execution_count": null,
   "metadata": {
    "collapsed": false
   },
   "outputs": [],
   "source": [
    "## VERSION FOR BE NEWSLETTER\n",
    "\n",
    "ind = [0.2, 0.5, 0.8]\n",
    "width = 0.2\n",
    "\n",
    "fig = plt.figure(1, dpi=100)\n",
    "ax = fig.add_subplot(111)\n",
    "colors = palettable.colorbrewer.qualitative.Pastel1_4.mpl_colors\n",
    "colors = palettable.tableau.TableauMedium_10.mpl_colors\n",
    "\n",
    "bar1 = [100*np.median(trCT['tt2']), 100*np.median(trMTE['tt2']), 100*np.median(trMTE2['tt2'])]\n",
    "ax.bar(ind, bar1, width=width, color='b')\n",
    "#ax.boxplot([100*(trCT['tt2']), 100*(trMTE['tt2'])], positions=[0.3, 0.7])\n",
    "bp1 = ax.boxplot([-100*(1-trCT['total']), -100*(1-trMTE['total']), -100*np.median(trMTE['tt2'])], positions=[0.3, 0.6, 0.9])\n",
    "bar2 = [100*np.median(trCT['spsInj']), 100*np.median(trMTE['spsInj']), 100*np.median(trMTE2['spsInj'])]\n",
    "ax.bar(ind, bar2, bottom=bar1, width=width, color=[0, 0.9, 0])\n",
    "bar3 = [100*np.median(trCT['spsFT']), 100*np.median(trMTE['spsFT']), 100*np.median(trMTE2['spsFT'])]\n",
    "ax.bar(ind, bar3, bottom=[sum(x) for x in zip(bar1, bar2)], color='r', width=width)\n",
    "\n",
    "ax.grid(True)\n",
    "ax.tick_params(axis='both', which='major', labelsize=22)\n",
    "ax.set_xlabel('', fontsize=22)\n",
    "ax.set_ylabel('Losses [%]', fontsize=22)\n",
    "ax.set_xticklabels(['CT', 'MTE', 'MTE'])\n",
    "ax.set_xlim([0, 1.1])\n",
    "ax.set_ylim([0, 20])\n",
    "ax.text(0.22, 1.0, '{:.1f}%'.format(100*np.median(trCT['tt2'])), fontsize=15, fontweight=\"bold\", color=[1,1,1])\n",
    "ax.text(0.52, 1.0, '{:.1f}%'.format(100*np.median(trMTE['tt2'])), fontsize=15, fontweight=\"bold\", color=[1,1,1])\n",
    "ax.text(0.82, 1.0, '{:.1f}%'.format(100*np.median(trMTE2['tt2'])), fontsize=15, fontweight=\"bold\", color=[1,1,1])\n",
    "ax.text(0.22, 7.0, '{:.1f}%'.format(100*np.median(trCT['spsInj'])), fontsize=15, fontweight=\"bold\", color=[1,1,1])\n",
    "ax.text(0.52, 5.0, '{:.1f}%'.format(100*np.median(trMTE['spsInj'])), fontsize=15, fontweight=\"bold\", color=[1,1,1])\n",
    "ax.text(0.82, 5.0, '{:.1f}%'.format(100*np.median(trMTE2['spsInj'])), fontsize=15, fontweight=\"bold\", color=[1,1,1])\n",
    "ax.text(0.22, 10.5, '{:.1f}%'.format(100*np.median(trCT['spsFT'])), fontsize=15, fontweight=\"bold\", color=[1,1,1])\n",
    "ax.text(0.52, 10.5, '{:.1f}%'.format(100*np.median(trMTE['spsFT'])), fontsize=15, fontweight=\"bold\", color=[1,1,1])\n",
    "ax.text(0.82, 8.5, '{:.1f}%'.format(100*np.median(trMTE2['spsFT'])), fontsize=15, fontweight=\"bold\", color=[1,1,1])\n",
    "\n",
    "ax.text(0.04, 2.0, 'PS Extraction', fontsize=15, color='b', fontweight='bold')\n",
    "ax.text(0.04, 6.0, 'TT2 - TT10', fontsize=15, color=[0, 0.8, 0], fontweight='bold')\n",
    "ax.text(0.04, 10.1, 'SPS', fontsize=15, color='r', fontweight='bold')\n",
    "\n",
    "ax.text(0.25, 15.2, '19/09/2015', fontsize=16)\n",
    "ax.text(0.55, 15.2, '29/09/2015', fontsize=16)\n",
    "ax.text(0.85, 15.2, '04/11/2015', fontsize=16)\n",
    "\n",
    "fig.savefig('plot.pdf')"
   ]
  },
  {
   "cell_type": "code",
   "execution_count": 31,
   "metadata": {
    "collapsed": false
   },
   "outputs": [
    {
     "name": "stderr",
     "output_type": "stream",
     "text": [
      "/user/bdisoft/operational/bin/Python/Anaconda3/lib/python3.4/site-packages/matplotlib/font_manager.py:1282: UserWarning: findfont: Font family ['serif'] not found. Falling back to Bitstream Vera Sans\n",
      "  (prop.get_family(), self.defaultFamily[fontext]))\n"
     ]
    },
    {
     "data": {
      "image/png": "[encoded data removed]",
      "text/plain": [
       "<matplotlib.figure.Figure at 0x7f0f5493c1d0>"
      ]
     },
     "metadata": {},
     "output_type": "display_data"
    }
   ],
   "source": [
    "## VERSION FOR PAUL\n",
    "\n",
    "ind = [0.2, 0.5, 0.8]\n",
    "width = 0.2\n",
    "\n",
    "with plt.style.context('word'):\n",
    "    fig = plt.figure(1, figsize=(15,6), dpi=100)\n",
    "    ax = fig.add_subplot(111)\n",
    "    colors = palettable.colorbrewer.qualitative.Pastel1_4.mpl_colors\n",
    "    colors = palettable.tableau.TableauMedium_10.mpl_colors\n",
    "\n",
    "    bar1 = [100*np.median(trCT['tt2']), 100*np.median(trMTE['tt2']), 100*np.median(trMTE2['tt2'])]\n",
    "    ax.bar(ind, bar1, width=width, color='b')\n",
    "    #ax.boxplot([100*(trCT['tt2']), 100*(trMTE['tt2'])], positions=[0.3, 0.7])\n",
    "    bp1 = ax.boxplot([-100*(1-trCT['total']), -100*(1-trMTE['total']), -100*np.median(trMTE['tt2'])], positions=[0.3, 0.6, 0.9])\n",
    "    bar2 = [100*np.median(trCT['spsInj']), 100*np.median(trMTE['spsInj']), 100*np.median(trMTE2['spsInj'])]\n",
    "    ax.bar(ind, bar2, bottom=bar1, width=width, color=[0, 0.9, 0])\n",
    "    bar3 = [100*np.median(trCT['spsFT']), 100*np.median(trMTE['spsFT']), 100*np.median(trMTE2['spsFT'])]\n",
    "    ax.bar(ind, bar3, bottom=[sum(x) for x in zip(bar1, bar2)], color='r', width=width)\n",
    "\n",
    "    ax.grid(True)\n",
    "    ax.tick_params(axis='both', which='major', labelsize=30)\n",
    "    ax.set_xlabel('', fontsize=26)\n",
    "    ax.set_ylabel('Losses [%]', fontsize=30)\n",
    "    ax.set_xticklabels(['CT', 'MTE', 'MTE'])\n",
    "    ax.set_xlim([0, 1.1])\n",
    "    ax.set_ylim([0, 20])\n",
    "    ax.text(0.22, 1.0, '{:.1f}%'.format(100*np.median(trCT['tt2'])), fontsize=20, fontweight=\"bold\", color=[1,1,1])\n",
    "    ax.text(0.52, 1.0, '{:.1f}%'.format(100*np.median(trMTE['tt2'])), fontsize=20, fontweight=\"bold\", color=[1,1,1])\n",
    "    ax.text(0.82, 1.0, '{:.1f}%'.format(100*np.median(trMTE2['tt2'])), fontsize=20, fontweight=\"bold\", color=[1,1,1])\n",
    "    ax.text(0.22, 7.0, '{:.1f}%'.format(100*np.median(trCT['spsInj'])), fontsize=20, fontweight=\"bold\", color=[1,1,1])\n",
    "    ax.text(0.52, 5.0, '{:.1f}%'.format(100*np.median(trMTE['spsInj'])), fontsize=20, fontweight=\"bold\", color=[1,1,1])\n",
    "    ax.text(0.82, 5.0, '{:.1f}%'.format(100*np.median(trMTE2['spsInj'])), fontsize=20, fontweight=\"bold\", color=[1,1,1])\n",
    "    ax.text(0.22, 10.5, '{:.1f}%'.format(100*np.median(trCT['spsFT'])), fontsize=20, fontweight=\"bold\", color=[1,1,1])\n",
    "    ax.text(0.52, 10.5, '{:.1f}%'.format(100*np.median(trMTE['spsFT'])), fontsize=20, fontweight=\"bold\", color=[1,1,1])\n",
    "    ax.text(0.82, 8.5, '{:.1f}%'.format(100*np.median(trMTE2['spsFT'])), fontsize=20, fontweight=\"bold\", color=[1,1,1])\n",
    "\n",
    "    ax.text(0.0, 2.0, 'PS Extraction', fontsize=24, color='b', fontweight='bold')\n",
    "    ax.text(0.0, 6.0, 'TT2 - TT10', fontsize=24, color=[0, 0.8, 0], fontweight='bold')\n",
    "    ax.text(0.0, 10.1, 'SPS', fontsize=24, color='r', fontweight='bold')\n",
    "\n",
    "    ax.text(0.23, 15.2, '19/09/2015', fontsize=26)\n",
    "    ax.text(0.53, 15.2, '29/09/2015', fontsize=26)\n",
    "    ax.text(0.83, 15.2, '04/11/2015', fontsize=26)\n",
    "    plt.tight_layout()\n",
    "    fig.savefig('trans_plot.pdf')"
   ]
  },
  {
   "cell_type": "code",
   "execution_count": 6,
   "metadata": {
    "collapsed": true
   },
   "outputs": [],
   "source": [
    "def stlBoxPlot(bp, cl):\n",
    "    for box in bp1['boxes']:\n",
    "        box.set(color = cl, linewidth = 2)\n",
    "        box.set(facecolor = cl, alpha=0.4)\n",
    "    for whisker in bp1['whiskers']:\n",
    "        whisker.set(color = cl, linewidth = 2)\n",
    "    for cap in bp1['caps']:\n",
    "        cap.set(color = cl, linewidth = 2)\n",
    "    for median in bp1['medians']:\n",
    "        median.set(color = cl, linewidth = 2)\n",
    "    for flier in bp1['fliers']:\n",
    "        flier.set(marker='o', markersize=4, color=cl, markeredgecolor='none', alpha=0.5)"
   ]
  },
  {
   "cell_type": "code",
   "execution_count": null,
   "metadata": {
    "collapsed": true
   },
   "outputs": [],
   "source": []
  }
 ],
 "metadata": {
  "kernelspec": {
   "display_name": "Python 3",
   "language": "python",
   "name": "python3"
  },
  "language_info": {
   "codemirror_mode": {
    "name": "ipython",
    "version": 3
   },
   "file_extension": ".py",
   "mimetype": "text/x-python",
   "name": "python",
   "nbconvert_exporter": "python",
   "pygments_lexer": "ipython3",
   "version": "3.5.0"
  }
 },
 "nbformat": 4,
 "nbformat_minor": 0
}
